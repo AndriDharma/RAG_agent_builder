{
 "cells": [
  {
   "cell_type": "code",
   "execution_count": 1,
   "metadata": {},
   "outputs": [],
   "source": [
    "from google.cloud import secretmanager\n",
    "import json\n",
    "import os"
   ]
  },
  {
   "cell_type": "code",
   "execution_count": null,
   "metadata": {},
   "outputs": [],
   "source": [
    "# os.environ['GOOGLE_APPLICATION_CREDENTIALS'] = r\"C:\\Users\\ASUS\\Documents\\Job\\Datalabs\\2025\\service_account\\dla-gen-ai-specialization-a03e18685e07.json\" # Isi dengan Service Account\n"
   ]
  },
  {
   "cell_type": "code",
   "execution_count": null,
   "metadata": {},
   "outputs": [],
   "source": [
    "# PROJECT_ID = \"844021890758\"\n",
    "# COLLECTION_NAME = \"default_collection\"\n",
    "# ENGINE_NAME = \"demo2-test_1736323106527\"\n",
    "# SECRET_ID_DB = \"db-secret\"\n"
   ]
  },
  {
   "cell_type": "code",
   "execution_count": 4,
   "metadata": {},
   "outputs": [],
   "source": [
    "# secret manager\n",
    "client = secretmanager.SecretManagerServiceClient()\n",
    "# Build the resource name of the secret version.\n",
    "name = f\"projects/{PROJECT_ID}/secrets/{SECRET_ID_DB}/versions/latest\"\n",
    "\n",
    "# Access the secret version.\n",
    "response = client.access_secret_version(request={\"name\": name})\n",
    "payload = response.payload.data.decode(\"UTF-8\")\n",
    "db_secret = json.loads(payload)"
   ]
  },
  {
   "cell_type": "code",
   "execution_count": 5,
   "metadata": {},
   "outputs": [
    {
     "data": {
      "text/plain": [
       "'{\"INSTANCE_CONNECTION_NAME\" : \"dla-gen-ai-specialization:asia-southeast2:db-genai\",\"DB_USER\" : \"postgres\",\"DB_PASS\" : \"B=prdZ\\\\md|L:j^Vt\",\"DB_NAME\" : \"postgres\"}'"
      ]
     },
     "execution_count": 5,
     "metadata": {},
     "output_type": "execute_result"
    }
   ],
   "source": [
    "payload"
   ]
  },
  {
   "cell_type": "code",
   "execution_count": null,
   "metadata": {},
   "outputs": [],
   "source": [
    "{\"INSTANCE_CONNECTION_NAME\" : \"dla-gen-ai-specialization:asia-southeast2:db-genai\",\"DB_USER\" : \"postgres\",\"DB_PASS\" : \",T-+kuu#q(]oz,db\",\"DB_NAME\" : \"postgres\"}"
   ]
  }
 ],
 "metadata": {
  "kernelspec": {
   "display_name": "gen-ai-specialization",
   "language": "python",
   "name": "python3"
  },
  "language_info": {
   "codemirror_mode": {
    "name": "ipython",
    "version": 3
   },
   "file_extension": ".py",
   "mimetype": "text/x-python",
   "name": "python",
   "nbconvert_exporter": "python",
   "pygments_lexer": "ipython3",
   "version": "3.12.8"
  }
 },
 "nbformat": 4,
 "nbformat_minor": 2
}
