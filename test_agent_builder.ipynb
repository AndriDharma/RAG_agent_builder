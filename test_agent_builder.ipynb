{
 "cells": [
  {
   "cell_type": "code",
   "execution_count": 1,
   "metadata": {},
   "outputs": [],
   "source": [
    "import streamlit as st\n",
    "import vertexai\n",
    "from vertexai.generative_models import GenerativeModel, Part, Content, FinishReason, SafetySetting\n",
    "import vertexai.preview.generative_models as generative_models\n",
    "import os\n",
    "import requests\n",
    "import google.auth.transport.requests\n",
    "from google.oauth2 import service_account\n",
    "import google.oauth2.id_token\n",
    "import vertexai"
   ]
  },
  {
   "cell_type": "code",
   "execution_count": 2,
   "metadata": {},
   "outputs": [],
   "source": [
    "os.environ['GOOGLE_APPLICATION_CREDENTIALS'] = r\"C:\\Users\\ASUS\\Documents\\Job\\Datalabs\\2025\\service_account\\dla-gen-ai-specialization-a03e18685e07.json\" # Isi dengan Service Account"
   ]
  },
  {
   "cell_type": "code",
   "execution_count": 12,
   "metadata": {},
   "outputs": [],
   "source": [
    "PROJECT_ID = \"844021890758\"\n",
    "COLLECTION_NAME = \"default_collection\"\n",
    "ENGINE_NAME = \"demo2-test_1736323106527\""
   ]
  },
  {
   "cell_type": "code",
   "execution_count": 4,
   "metadata": {},
   "outputs": [],
   "source": [
    "def search_with_answer(query,session,agent):\n",
    "    url_search = f\"https://discoveryengine.googleapis.com/v1alpha/projects/{PROJECT_ID}/locations/global/collections/{COLLECTION_NAME}/engines/{agent}/servingConfigs/default_search:search\"\n",
    "    # API credential\n",
    "    credentials = service_account.Credentials.from_service_account_file(\n",
    "        os.environ['GOOGLE_APPLICATION_CREDENTIALS'],\n",
    "        scopes=['https://www.googleapis.com/auth/cloud-platform']\n",
    "    )\n",
    "    request_token = google.auth.transport.requests.Request()\n",
    "    credentials.refresh(request_token)\n",
    "    headers = {\n",
    "        \"Authorization\": f\"Bearer {credentials.token}\",\n",
    "        \"Content-Type\": \"application/json\"\n",
    "    }\n",
    "    # ngelakuin search file dulu baru summary, ini buat data searchnya\n",
    "    if session == \"\":\n",
    "        session = f\"projects/{PROJECT_ID}/locations/global/collections/{COLLECTION_NAME}/engines/{agent}/sessions/-\"\n",
    "    else:\n",
    "        pass\n",
    "    request_data_search = {\n",
    "        \"query\": query,\n",
    "        \"pageSize\": 10,\n",
    "        \"queryExpansionSpec\": {\n",
    "            \"condition\": \"AUTO\"\n",
    "        },\n",
    "        \"spellCorrectionSpec\": {\n",
    "            \"mode\": \"AUTO\"\n",
    "        },\n",
    "        \"contentSearchSpec\": {\n",
    "            \"snippetSpec\": {\n",
    "                \"returnSnippet\": True\n",
    "            },\n",
    "            \"extractiveContentSpec\": {\n",
    "                \"maxExtractiveAnswerCount\": 1\n",
    "            }\n",
    "        },\n",
    "        \"session\": session\n",
    "    }\n",
    "    request_search = requests.post(url=url_search, json=request_data_search,headers=headers)\n",
    "    search = request_search.json()\n",
    "    # ini bagian api call untuk summary\n",
    "    url_answer = f\"https://discoveryengine.googleapis.com/v1alpha/projects/{PROJECT_ID}/locations/global/collections/{COLLECTION_NAME}/engines/{agent}/servingConfigs/default_search:answer\"\n",
    "\n",
    "    request_data_answer = {\n",
    "        \"query\": {\n",
    "            \"text\": query,\n",
    "            \"queryId\": search['sessionInfo']['queryId']\n",
    "        },\n",
    "        \"session\": search['sessionInfo']['name'],\n",
    "        \"relatedQuestionsSpec\": {\n",
    "            \"enable\": True\n",
    "        },\n",
    "        \"answerGenerationSpec\": {\n",
    "            \"ignoreAdversarialQuery\": True,\n",
    "            \"ignoreNonAnswerSeekingQuery\": True,\n",
    "            \"ignoreLowRelevantContent\": True,\n",
    "            \"includeCitations\": True,\n",
    "            \"promptSpec\": {\n",
    "                \"preamble\": \"\"\"Anda adalah agent chatbot internal untuk perusahaan WOM Finance Jawablah dalam bahasa indonesia jangan dengan bahasa inggris,untuk jawaban yang tidak ditemukan harap balas dengan \"Jawaban tidak ditemukan, silahkan menghubungi tim OPP pada email OPP@wom.co.id. Terima Kasih\" \"\"\"\n",
    "            },\n",
    "            \"modelSpec\": {\n",
    "                \"modelVersion\": \"gemini-1.5-flash-001/answer_gen/v2\"\n",
    "            }\n",
    "        }\n",
    "    }\n",
    "\n",
    "    request_answer = requests.post(url_answer, json=request_data_answer,headers=headers)\n",
    "    answer = request_answer.json()\n",
    "\n",
    "    return answer"
   ]
  },
  {
   "cell_type": "code",
   "execution_count": 24,
   "metadata": {},
   "outputs": [],
   "source": [
    "query = \"laptop reccomendations\"\n",
    "session = ''\n",
    "agent = \"demo2-test_1736323106527\""
   ]
  },
  {
   "cell_type": "code",
   "execution_count": 25,
   "metadata": {},
   "outputs": [],
   "source": [
    "url_search = f\"https://discoveryengine.googleapis.com/v1alpha/projects/{PROJECT_ID}/locations/global/collections/{COLLECTION_NAME}/engines/{agent}/servingConfigs/default_search:search\"\n",
    "# API credential\n",
    "credentials = service_account.Credentials.from_service_account_file(\n",
    "    os.environ['GOOGLE_APPLICATION_CREDENTIALS'],\n",
    "    scopes=['https://www.googleapis.com/auth/cloud-platform']\n",
    ")\n",
    "request_token = google.auth.transport.requests.Request()\n",
    "credentials.refresh(request_token)\n",
    "headers = {\n",
    "    \"Authorization\": f\"Bearer {credentials.token}\",\n",
    "    \"Content-Type\": \"application/json\"\n",
    "}\n",
    "# ngelakuin search file dulu baru summary, ini buat data searchnya\n",
    "if session == \"\":\n",
    "    session = f\"projects/{PROJECT_ID}/locations/global/collections/{COLLECTION_NAME}/engines/{agent}/sessions/-\"\n",
    "else:\n",
    "    pass\n",
    "request_data_search = {\n",
    "    \"query\": query,\n",
    "    \"pageSize\": 10,\n",
    "    \"queryExpansionSpec\": {\n",
    "        \"condition\": \"AUTO\"\n",
    "    },\n",
    "    \"spellCorrectionSpec\": {\n",
    "        \"mode\": \"AUTO\"\n",
    "    },\n",
    "    \"contentSearchSpec\": {\n",
    "        \"snippetSpec\": {\n",
    "            \"returnSnippet\": True\n",
    "        },\n",
    "        \"extractiveContentSpec\": {\n",
    "            \"maxExtractiveAnswerCount\": 1\n",
    "        }\n",
    "    },\n",
    "    \"session\": session\n",
    "}\n",
    "request_search = requests.post(url=url_search, json=request_data_search,headers=headers)\n",
    "search = request_search.json()"
   ]
  },
  {
   "cell_type": "code",
   "execution_count": 26,
   "metadata": {},
   "outputs": [],
   "source": [
    "# ini bagian api call untuk summary\n",
    "url_answer = f\"https://discoveryengine.googleapis.com/v1alpha/projects/{PROJECT_ID}/locations/global/collections/{COLLECTION_NAME}/engines/{agent}/servingConfigs/default_search:answer\"\n",
    "\n",
    "request_data_answer = {\n",
    "    \"query\": {\n",
    "        \"text\": query,\n",
    "        \"queryId\": search['sessionInfo']['queryId']\n",
    "    },\n",
    "    \"session\": search['sessionInfo']['name'],\n",
    "    \"relatedQuestionsSpec\": {\n",
    "        \"enable\": True\n",
    "    },\n",
    "    \"answerGenerationSpec\": {\n",
    "        \"ignoreAdversarialQuery\": True,\n",
    "        \"ignoreNonAnswerSeekingQuery\": True,\n",
    "        \"ignoreLowRelevantContent\": True,\n",
    "        \"includeCitations\": True,\n",
    "        \"promptSpec\": {\n",
    "            \"preamble\": \"\"\"\"\"\"\n",
    "        },\n",
    "        \"modelSpec\": {\n",
    "            \"modelVersion\": \"gemini-1.5-flash-001/answer_gen/v2\"\n",
    "        }\n",
    "    }\n",
    "}\n",
    "\n",
    "request_answer = requests.post(url_answer, json=request_data_answer,headers=headers)\n",
    "answer = request_answer.json()"
   ]
  },
  {
   "cell_type": "code",
   "execution_count": 27,
   "metadata": {},
   "outputs": [
    {
     "data": {
      "text/plain": [
       "'A summary could not be generated for your search query. Here are some search results.'"
      ]
     },
     "execution_count": 27,
     "metadata": {},
     "output_type": "execute_result"
    }
   ],
   "source": [
    "answer['answer']['answerText']"
   ]
  },
  {
   "cell_type": "code",
   "execution_count": 39,
   "metadata": {},
   "outputs": [
    {
     "data": {
      "text/plain": [
       "'gs://gen-ai-specialization-demo2/data-hugging-face/text/output_7.txt'"
      ]
     },
     "execution_count": 39,
     "metadata": {},
     "output_type": "execute_result"
    }
   ],
   "source": [
    "search['results'][0]['document']['derivedStructData']['link']"
   ]
  },
  {
   "cell_type": "code",
   "execution_count": 36,
   "metadata": {},
   "outputs": [
    {
     "name": "stdout",
     "output_type": "stream",
     "text": [
      "[0]The ThinkPad X1 Fold is an innovative, future-oriented reinterpretation of the classic notebook or laptop computer. Elegant in appearance, the 13.3&quot; OLED screen system folds down to a practical size of 7.2&quot; so that it can be carried easily like a small paper book.\n",
      "[1]Product Name: HP Pavilion 15 x360; Product Category: Laptop; Product Description: Versatile applications and careful design are the hallmarks of the HP Pavilion 15 x360. It can be used in tent mode for watching videos, in tablet mode as a digital drawing pad and as a laptop it is a reliable working tool.\n",
      "[2]The IdeaPad U430s also offers users a pleasing tactile experience due to a special surface finish that makes it feel soft and natural to the touch. In a highly inspired manner, the design of the IdeaPad U430s places the user centre-stage – it has emerged as a laptop with fascinatingly new qualities.\n",
      "[3]An Nvidia Tegra 4 processor provides the required speed for an optimised graphics presentation. The notebook is 16 mm thin and weighs merely 1.7 kg. The device with its contemporary design is available in a range of vibrant colours.\n",
      "[4]At first glance, the elegance of the Yoga 9i notebook is defined by its high-quality genuine leather cover. Unique in its texture from piece to piece, the purely organic material of leather clearly enhances the look of the notebook.\n",
      "[5]Product Name: Raider GE78 HX; Product Category: Gaming Laptop; Product Description: Raider GE78 HX is a laptop designed specifically for the gaming market. It has advanced and professional gamers in its focus and offers correspondingly high-quality technical equipment.\n",
      "[6]Product Name: ROG Zephyrus M16 GU604; Product Category: Gaming Laptop; Product Description: The ROG Zephyrus M16 GU604 gaming laptop is characterised by high performance and understated design. It has been given a valuable high-gloss polish contributing to the elegant look and making the device appear slimmer overall.\n",
      "[7]Product Name: ASUS BR1100 Series; Product Category: Laptops; Product Description: The ASUS BR1100 series laptops are designed to be affordable and flexible for educational use. They are available in clamshell or 360-degree models to meet a wide range of requirements.\n",
      "[8]Product Name: Google Pixelbook Go; Product Category: Laptop; Product Description: To meet user requirements for a lightweight, easily portable laptop for use underway, the Pixelbook Go has been equipped with a magnesium chassis that is only 13 mm thick and weighs just under 1 kg.\n",
      "[9]Product Name: AORUS 15X; Product Category: Gaming Laptop; Product Description: With its contemporary technical features, the AORUS 15X gaming laptop has avid gamers in its sights. Its 15 chassis is less than 2.1 cm thick, making it easy to transport.\n"
     ]
    }
   ],
   "source": [
    "for i in range(len(search['results'])):\n",
    "    print(f\"[{i}]{search['results'][i]['document']['derivedStructData']['extractive_answers'][0]['content']}\")"
   ]
  },
  {
   "cell_type": "code",
   "execution_count": 45,
   "metadata": {},
   "outputs": [
    {
     "name": "stdout",
     "output_type": "stream",
     "text": [
      "'This is a test string with [1] in it.': True\n",
      "'This string does not have the sequence.': False\n",
      "'This one has [2] but not [1].': True\n"
     ]
    }
   ],
   "source": [
    "import re\n",
    "\n",
    "def find_bracketed_one(text):\n",
    "  \"\"\"\n",
    "  Checks if the text contains '[1]'.\n",
    "\n",
    "  Args:\n",
    "    text: The input string to search in.\n",
    "\n",
    "  Returns:\n",
    "    True if '[1]' is found, False otherwise.\n",
    "  \"\"\"\n",
    "  if re.search(r\"\\[1\\]\", text):\n",
    "    return True\n",
    "  else:\n",
    "    return False\n",
    "\n",
    "# Example usage:\n",
    "text1 = \"This is a test string with [1] in it.\"\n",
    "text2 = \"This string does not have the sequence.\"\n",
    "text3 = \"This one has [2] but not [1].\"\n",
    "text4 = \"This one has [1] in the beginning.\"\n",
    "\n",
    "print(f\"'{text1}': {find_bracketed_one(text1)}\")\n",
    "print(f\"'{text2}': {find_bracketed_one(text2)}\")\n",
    "print(f\"'{text3}': {find_bracketed_one(text3)}\")"
   ]
  },
  {
   "cell_type": "code",
   "execution_count": 47,
   "metadata": {},
   "outputs": [
    {
     "data": {
      "text/plain": [
       "re.Match"
      ]
     },
     "execution_count": 47,
     "metadata": {},
     "output_type": "execute_result"
    }
   ],
   "source": [
    "re.search(r\"\\[1\\]\", text1)"
   ]
  },
  {
   "cell_type": "code",
   "execution_count": null,
   "metadata": {},
   "outputs": [],
   "source": []
  }
 ],
 "metadata": {
  "kernelspec": {
   "display_name": "gen-ai-specialization",
   "language": "python",
   "name": "python3"
  },
  "language_info": {
   "codemirror_mode": {
    "name": "ipython",
    "version": 3
   },
   "file_extension": ".py",
   "mimetype": "text/x-python",
   "name": "python",
   "nbconvert_exporter": "python",
   "pygments_lexer": "ipython3",
   "version": "3.12.8"
  }
 },
 "nbformat": 4,
 "nbformat_minor": 2
}
