{
 "cells": [
  {
   "cell_type": "code",
   "execution_count": 50,
   "metadata": {},
   "outputs": [],
   "source": [
    "import streamlit as st\n",
    "import vertexai\n",
    "from vertexai.generative_models import GenerativeModel, Part, Content, FinishReason, SafetySetting\n",
    "import vertexai.preview.generative_models as generative_models\n",
    "import os\n",
    "import requests\n",
    "import google.auth.transport.requests\n",
    "from google.oauth2 import service_account\n",
    "import google.oauth2.id_token\n",
    "import vertexai\n",
    "import re"
   ]
  },
  {
   "cell_type": "code",
   "execution_count": 2,
   "metadata": {},
   "outputs": [],
   "source": [
    "os.environ['GOOGLE_APPLICATION_CREDENTIALS'] = r\"C:\\Users\\ASUS\\Documents\\Job\\Datalabs\\2025\\service_account\\dla-gen-ai-specialization-a03e18685e07.json\" # Isi dengan Service Account"
   ]
  },
  {
   "cell_type": "code",
   "execution_count": 12,
   "metadata": {},
   "outputs": [],
   "source": [
    "PROJECT_ID = \"844021890758\"\n",
    "COLLECTION_NAME = \"default_collection\"\n",
    "ENGINE_NAME = \"demo2-test_1736323106527\""
   ]
  },
  {
   "cell_type": "code",
   "execution_count": 4,
   "metadata": {},
   "outputs": [],
   "source": [
    "def search_with_answer(query,session,agent):\n",
    "    url_search = f\"https://discoveryengine.googleapis.com/v1alpha/projects/{PROJECT_ID}/locations/global/collections/{COLLECTION_NAME}/engines/{agent}/servingConfigs/default_search:search\"\n",
    "    # API credential\n",
    "    credentials = service_account.Credentials.from_service_account_file(\n",
    "        os.environ['GOOGLE_APPLICATION_CREDENTIALS'],\n",
    "        scopes=['https://www.googleapis.com/auth/cloud-platform']\n",
    "    )\n",
    "    request_token = google.auth.transport.requests.Request()\n",
    "    credentials.refresh(request_token)\n",
    "    headers = {\n",
    "        \"Authorization\": f\"Bearer {credentials.token}\",\n",
    "        \"Content-Type\": \"application/json\"\n",
    "    }\n",
    "    # ngelakuin search file dulu baru summary, ini buat data searchnya\n",
    "    if session == \"\":\n",
    "        session = f\"projects/{PROJECT_ID}/locations/global/collections/{COLLECTION_NAME}/engines/{agent}/sessions/-\"\n",
    "    else:\n",
    "        pass\n",
    "    request_data_search = {\n",
    "        \"query\": query,\n",
    "        \"pageSize\": 10,\n",
    "        \"queryExpansionSpec\": {\n",
    "            \"condition\": \"AUTO\"\n",
    "        },\n",
    "        \"spellCorrectionSpec\": {\n",
    "            \"mode\": \"AUTO\"\n",
    "        },\n",
    "        \"contentSearchSpec\": {\n",
    "            \"snippetSpec\": {\n",
    "                \"returnSnippet\": True\n",
    "            },\n",
    "            \"extractiveContentSpec\": {\n",
    "                \"maxExtractiveAnswerCount\": 1\n",
    "            }\n",
    "        },\n",
    "        \"session\": session\n",
    "    }\n",
    "    request_search = requests.post(url=url_search, json=request_data_search,headers=headers)\n",
    "    search = request_search.json()\n",
    "    # ini bagian api call untuk summary\n",
    "    url_answer = f\"https://discoveryengine.googleapis.com/v1alpha/projects/{PROJECT_ID}/locations/global/collections/{COLLECTION_NAME}/engines/{agent}/servingConfigs/default_search:answer\"\n",
    "\n",
    "    request_data_answer = {\n",
    "        \"query\": {\n",
    "            \"text\": query,\n",
    "            \"queryId\": search['sessionInfo']['queryId']\n",
    "        },\n",
    "        \"session\": search['sessionInfo']['name'],\n",
    "        \"relatedQuestionsSpec\": {\n",
    "            \"enable\": True\n",
    "        },\n",
    "        \"answerGenerationSpec\": {\n",
    "            \"ignoreAdversarialQuery\": True,\n",
    "            \"ignoreNonAnswerSeekingQuery\": True,\n",
    "            \"ignoreLowRelevantContent\": True,\n",
    "            \"includeCitations\": True,\n",
    "            \"promptSpec\": {\n",
    "                \"preamble\": \"\"\"Anda adalah agent chatbot internal untuk perusahaan WOM Finance Jawablah dalam bahasa indonesia jangan dengan bahasa inggris,untuk jawaban yang tidak ditemukan harap balas dengan \"Jawaban tidak ditemukan, silahkan menghubungi tim OPP pada email OPP@wom.co.id. Terima Kasih\" \"\"\"\n",
    "            },\n",
    "            \"modelSpec\": {\n",
    "                \"modelVersion\": \"gemini-1.5-flash-001/answer_gen/v2\"\n",
    "            }\n",
    "        }\n",
    "    }\n",
    "\n",
    "    request_answer = requests.post(url_answer, json=request_data_answer,headers=headers)\n",
    "    answer = request_answer.json()\n",
    "\n",
    "    return answer"
   ]
  },
  {
   "cell_type": "code",
   "execution_count": 24,
   "metadata": {},
   "outputs": [],
   "source": [
    "query = \"laptop reccomendations\"\n",
    "session = ''\n",
    "agent = \"demo2-test_1736323106527\""
   ]
  },
  {
   "cell_type": "code",
   "execution_count": 25,
   "metadata": {},
   "outputs": [],
   "source": [
    "url_search = f\"https://discoveryengine.googleapis.com/v1alpha/projects/{PROJECT_ID}/locations/global/collections/{COLLECTION_NAME}/engines/{agent}/servingConfigs/default_search:search\"\n",
    "# API credential\n",
    "credentials = service_account.Credentials.from_service_account_file(\n",
    "    os.environ['GOOGLE_APPLICATION_CREDENTIALS'],\n",
    "    scopes=['https://www.googleapis.com/auth/cloud-platform']\n",
    ")\n",
    "request_token = google.auth.transport.requests.Request()\n",
    "credentials.refresh(request_token)\n",
    "headers = {\n",
    "    \"Authorization\": f\"Bearer {credentials.token}\",\n",
    "    \"Content-Type\": \"application/json\"\n",
    "}\n",
    "# ngelakuin search file dulu baru summary, ini buat data searchnya\n",
    "if session == \"\":\n",
    "    session = f\"projects/{PROJECT_ID}/locations/global/collections/{COLLECTION_NAME}/engines/{agent}/sessions/-\"\n",
    "else:\n",
    "    pass\n",
    "request_data_search = {\n",
    "    \"query\": query,\n",
    "    \"pageSize\": 10,\n",
    "    \"queryExpansionSpec\": {\n",
    "        \"condition\": \"AUTO\"\n",
    "    },\n",
    "    \"spellCorrectionSpec\": {\n",
    "        \"mode\": \"AUTO\"\n",
    "    },\n",
    "    \"contentSearchSpec\": {\n",
    "        \"snippetSpec\": {\n",
    "            \"returnSnippet\": True\n",
    "        },\n",
    "        \"extractiveContentSpec\": {\n",
    "            \"maxExtractiveAnswerCount\": 1\n",
    "        }\n",
    "    },\n",
    "    \"session\": session\n",
    "}\n",
    "request_search = requests.post(url=url_search, json=request_data_search,headers=headers)\n",
    "search = request_search.json()"
   ]
  },
  {
   "cell_type": "code",
   "execution_count": 26,
   "metadata": {},
   "outputs": [],
   "source": [
    "# ini bagian api call untuk summary\n",
    "url_answer = f\"https://discoveryengine.googleapis.com/v1alpha/projects/{PROJECT_ID}/locations/global/collections/{COLLECTION_NAME}/engines/{agent}/servingConfigs/default_search:answer\"\n",
    "\n",
    "request_data_answer = {\n",
    "    \"query\": {\n",
    "        \"text\": query,\n",
    "        \"queryId\": search['sessionInfo']['queryId']\n",
    "    },\n",
    "    \"session\": search['sessionInfo']['name'],\n",
    "    \"relatedQuestionsSpec\": {\n",
    "        \"enable\": True\n",
    "    },\n",
    "    \"answerGenerationSpec\": {\n",
    "        \"ignoreAdversarialQuery\": True,\n",
    "        \"ignoreNonAnswerSeekingQuery\": True,\n",
    "        \"ignoreLowRelevantContent\": True,\n",
    "        \"includeCitations\": True,\n",
    "        \"promptSpec\": {\n",
    "            \"preamble\": \"\"\"\"\"\"\n",
    "        },\n",
    "        \"modelSpec\": {\n",
    "            \"modelVersion\": \"gemini-1.5-flash-001/answer_gen/v2\"\n",
    "        }\n",
    "    }\n",
    "}\n",
    "\n",
    "request_answer = requests.post(url_answer, json=request_data_answer,headers=headers)\n",
    "answer = request_answer.json()"
   ]
  },
  {
   "cell_type": "code",
   "execution_count": 27,
   "metadata": {},
   "outputs": [
    {
     "data": {
      "text/plain": [
       "'A summary could not be generated for your search query. Here are some search results.'"
      ]
     },
     "execution_count": 27,
     "metadata": {},
     "output_type": "execute_result"
    }
   ],
   "source": [
    "answer['answer']['answerText']"
   ]
  },
  {
   "cell_type": "code",
   "execution_count": 39,
   "metadata": {},
   "outputs": [
    {
     "data": {
      "text/plain": [
       "'gs://gen-ai-specialization-demo2/data-hugging-face/text/output_7.txt'"
      ]
     },
     "execution_count": 39,
     "metadata": {},
     "output_type": "execute_result"
    }
   ],
   "source": [
    "search['results'][0]['document']['derivedStructData']['link']"
   ]
  },
  {
   "cell_type": "code",
   "execution_count": 49,
   "metadata": {},
   "outputs": [],
   "source": [
    "reference = ''\n",
    "sources_link = []\n",
    "for i in range(len(search['results'])):\n",
    "    reference +=f\"[{i}]{search['results'][i]['document']['derivedStructData']['extractive_answers'][0]['content']}\\n\"\n",
    "    gcs_uri = search['results'][i]['document']['derivedStructData']['link']\n",
    "    # Extract data source\n",
    "    source_exact = gcs_uri.replace(\"gs://\",\"https://storage.cloud.google.com/\")\n",
    "    source_exact = source_exact.replace(\" \",\"%20\")\n",
    "    sources_link.append(f\"[{i}]{source_exact} \\n\\n\")\n",
    "sources_link_join = ''.join(sources_link)"
   ]
  },
  {
   "cell_type": "code",
   "execution_count": 52,
   "metadata": {},
   "outputs": [
    {
     "name": "stdout",
     "output_type": "stream",
     "text": [
      "Text 1: True\n",
      "Text 2: True\n",
      "Text 3: True\n",
      "Text 4: False\n"
     ]
    }
   ],
   "source": [
    "import re\n",
    "\n",
    "def check_numbered_sequence(text, limit):\n",
    "    \"\"\"\n",
    "    Checks if a text contains a numbered sequence like '[1]', '[2]', '[3]' up to a certain limit.\n",
    "\n",
    "    Args:\n",
    "        text: The input text string.\n",
    "        limit: The upper limit of the numbered sequence.\n",
    "\n",
    "    Returns:\n",
    "        True if the sequence is found up to the limit, False otherwise.\n",
    "    \"\"\"\n",
    "    for i in range(1, limit + 1):\n",
    "        expected_pattern = r\"\\[\" + str(i) + r\"\\]\"\n",
    "        if not re.search(expected_pattern, text):\n",
    "            return False\n",
    "    return True\n",
    "\n",
    "# Example usage:\n",
    "text1 = \"This is a text with [1], [2], [3], [4], and [5].\"\n",
    "limit1 = 5\n",
    "print(f\"Text 1: {check_numbered_sequence(text1, limit1)}\")\n",
    "\n",
    "text2 = \"This text has [1], [2], and [4], but is missing [3].\"\n",
    "limit2 = 4\n",
    "print(f\"Text 2: {check_numbered_sequence(text2, limit2)}\")\n",
    "\n",
    "text3 = \"This text has [1], [2], [3].\"\n",
    "limit3 = 3\n",
    "print(f\"Text 3: {check_numbered_sequence(text3, limit3)}\")\n",
    "\n",
    "text4 = \"This text has [1] and [2].\"\n",
    "limit4 = 3\n",
    "print(f\"Text 4: {check_numbered_sequence(text4, limit4)}\")"
   ]
  },
  {
   "cell_type": "code",
   "execution_count": null,
   "metadata": {},
   "outputs": [],
   "source": []
  }
 ],
 "metadata": {
  "kernelspec": {
   "display_name": "gen-ai-specialization",
   "language": "python",
   "name": "python3"
  },
  "language_info": {
   "codemirror_mode": {
    "name": "ipython",
    "version": 3
   },
   "file_extension": ".py",
   "mimetype": "text/x-python",
   "name": "python",
   "nbconvert_exporter": "python",
   "pygments_lexer": "ipython3",
   "version": "3.12.8"
  }
 },
 "nbformat": 4,
 "nbformat_minor": 2
}
